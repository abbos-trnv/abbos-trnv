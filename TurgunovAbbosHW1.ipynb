{
  "nbformat": 4,
  "nbformat_minor": 0,
  "metadata": {
    "colab": {
      "provenance": [],
      "authorship_tag": "ABX9TyMZ2IJ2RnEM1EDpRADJuTD8",
      "include_colab_link": true
    },
    "kernelspec": {
      "name": "python3",
      "display_name": "Python 3"
    },
    "language_info": {
      "name": "python"
    }
  },
  "cells": [
    {
      "cell_type": "markdown",
      "metadata": {
        "id": "view-in-github",
        "colab_type": "text"
      },
      "source": [
        "<a href=\"https://colab.research.google.com/github/abbos-trnv/abbos-trnv/blob/main/TurgunovAbbosHW1.ipynb\" target=\"_parent\"><img src=\"https://colab.research.google.com/assets/colab-badge.svg\" alt=\"Open In Colab\"/></a>"
      ]
    },
    {
      "cell_type": "code",
      "execution_count": 3,
      "metadata": {
        "colab": {
          "base_uri": "https://localhost:8080/"
        },
        "id": "6qh-NuTp2E4h",
        "outputId": "24b630bf-7377-49db-d472-6dbe9c3255c9"
      },
      "outputs": [
        {
          "output_type": "stream",
          "name": "stdout",
          "text": [
            "S: -1.833333333333334\n",
            "p-значение: 0.0943905609439056\n",
            "Не отвергаем H_0\n"
          ]
        }
      ],
      "source": [
        "import pandas as pd\n",
        "import numpy as np\n",
        "from scipy import stats\n",
        "\n",
        "data = \"https://github.com/bdemeshev/hse_pmi_probability_2024_2025/raw/main/home_assignments/ha01_data.csv\"\n",
        "df = pd.read_csv(data)\n",
        "\n",
        "# a)\n",
        "A = df[df['x'] == 'A']['y'].mean()\n",
        "B = df[df['x'] == 'B']['y'].mean()\n",
        "S = B - A\n",
        "print(f\"S: {S}\")\n",
        "\n",
        "# b и в)\n",
        "def stat_func(group1, group2):\n",
        "    return np.mean(group2) - np.mean(group1)\n",
        "\n",
        "#\n",
        "group_A = df[df['x'] == 'A']['y'].values\n",
        "group_B = df[df['x'] == 'B']['y'].values\n",
        "\n",
        "#\n",
        "result = stats.permutation_test((group_A, group_B), stat_func, n_resamples=10000, alternative='less')\n",
        "\n",
        "p_value = result.pvalue\n",
        "print(f\"p-значение: {p_value}\")\n",
        "\n",
        "# г)\n",
        "alpha = 0.05\n",
        "\n",
        "if p_value < alpha:\n",
        "    result = \"Отвергаем H_0\"\n",
        "else:\n",
        "    result = \"Не отвергаем H_0\"\n",
        "\n",
        "print(result)\n"
      ]
    }
  ]
}